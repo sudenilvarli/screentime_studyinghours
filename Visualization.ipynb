# screentime_studyinghours - Data Visualization

# 1. Imports
import pandas as pd
import matplotlib.pyplot as plt
import seaborn as sns
import warnings

warnings.filterwarnings('ignore')

# 2. Data Loading
file_path = "Data/dataset.csv"
df = pd.read_csv(file_path)

# Convert 'Date' column to datetime format
df['Date'] = pd.to_datetime(df['Date'])

# Keep only data until and including 2025-04-18
df = df[df['Date'] <= '2025-04-18']

# Quick data overview
print(df.head())

# --- Visualization Section ---

## 1. Histogram of Total Screen Time
# Purpose: To observe the distribution of total screen usage time among individuals.

plt.figure(figsize=(10, 6))
sns.histplot(df['TotalScreenTime'], bins=20, color='orange', kde=True)
plt.title('Distribution of Total Screen Time')
plt.xlabel('Total Screen Time (hours)')
plt.ylabel('Frequency')
plt.grid(True)
plt.show()

## 2. Scatter Plot between Total Screen Time and Studying Hours
# Purpose: To examine the relationship between the amount of screen usage and the number of studying hours.

plt.figure(figsize=(10, 6))
sns.scatterplot(x='TotalScreenTime', y='StudyingHours', data=df, color='green')
plt.title('Total Screen Time vs Studying Hours')
plt.xlabel('Total Screen Time (hours)')
plt.ylabel('Studying Hours')
plt.grid(True)
plt.show()

## 3. Boxplot of Sleep Duration grouped by Academic Stress Level
# Purpose: To analyze how academic stress levels affect sleep duration.

plt.figure(figsize=(10, 6))
sns.boxplot(x='AcademicStressLevel', y='SleepDuration', data=df, palette='pastel')
plt.title('Sleep Duration across Academic Stress Levels')
plt.xlabel('Academic Stress Level')
plt.ylabel('Sleep Duration (hours)')
plt.grid(True, axis='y')
plt.show()

## 4. Bar Plot of Average Studying Hours by Academic Responsibilities Level
# Purpose: To observe how different levels of academic responsibilities influence studying time.

plt.figure(figsize=(10, 6))
sns.barplot(x='AcademicResponsibilities', y='StudyingHours', data=df, palette='coolwarm')
plt.title('Average Studying Hours by Academic Responsibilities')
plt.xlabel('Academic Responsibilities Level')
plt.ylabel('Average Studying Hours')
plt.grid(axis='y', linestyle='--')
plt.show()

## 5. Heatmap of Correlation between Main Variables
# Purpose: To visualize the correlation between key variables like screen time, studying hours, social activity, sleep.

plt.figure(figsize=(12, 8))
correlation_matrix = df[['TotalScreenTime', 'StudyingHours', 'SleepDuration', 'SocialActivityTime', 'AcademicStressLevel']].corr()
sns.heatmap(correlation_matrix, annot=True, cmap='Purples', linewidths=0.5)
plt.title('Correlation Matrix of Main Variables')
plt.show()
